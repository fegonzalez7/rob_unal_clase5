{
 "cells": [
  {
   "cell_type": "code",
   "execution_count": 1,
   "metadata": {},
   "outputs": [],
   "source": [
    "import roboticstoolbox as rtb\n",
    "from spatialmath import *\n",
    "from spatialmath.base import *\n",
    "import numpy as np"
   ]
  },
  {
   "cell_type": "code",
   "execution_count": 56,
   "metadata": {},
   "outputs": [
    {
     "name": "stdout",
     "output_type": "stream",
     "text": [
      "DHRobot: Px_DH_std, 4 joints (RRRR), dynamics, standard DH parameters\n",
      "┏━━━━━━━━━━┳━━━━━━┳━━━━━━┳━━━━━━━┳━━━━━━━━━┳━━━━━━━━┓\n",
      "┃   θⱼ     ┃  dⱼ  ┃  aⱼ  ┃  ⍺ⱼ   ┃   q⁻    ┃   q⁺   ┃\n",
      "┣━━━━━━━━━━╋━━━━━━╋━━━━━━╋━━━━━━━╋━━━━━━━━━╋━━━━━━━━┫\n",
      "┃ q1       ┃ 14.5 ┃    0 ┃ 90.0° ┃ -135.0° ┃ 135.0° ┃\n",
      "┃ q2 + 90° ┃    0 ┃ 10.7 ┃  0.0° ┃ -135.0° ┃ 135.0° ┃\n",
      "┃ q3       ┃    0 ┃ 10.7 ┃  0.0° ┃ -135.0° ┃ 135.0° ┃\n",
      "┃ q4       ┃    0 ┃    0 ┃  0.0° ┃ -135.0° ┃ 135.0° ┃\n",
      "┗━━━━━━━━━━┻━━━━━━┻━━━━━━┻━━━━━━━┻━━━━━━━━━┻━━━━━━━━┛\n",
      "\n",
      "┌─────┬──────┐\n",
      "│tool │ None │\n",
      "└─────┴──────┘\n",
      "\n"
     ]
    }
   ],
   "source": [
    "l = np.array([14.5, 10.7, 10.7, 9])\n",
    "qlims = np.array([[-3*np.pi/4, 3*np.pi/4],[-3*np.pi/4, 3*np.pi/4],[-3*np.pi/4, 3*np.pi/4],[-3*np.pi/4, 3*np.pi/4]])\n",
    "robot = rtb.DHRobot(\n",
    "    [rtb.RevoluteDH(alpha=np.pi/2, d=l[0], qlim=qlims[0,:]),\n",
    "    rtb.RevoluteDH(a=l[1], offset=np.pi/2, qlim=qlims[0,:]),\n",
    "    rtb.RevoluteDH(a=l[2], qlim=qlims[0,:]),\n",
    "    rtb.RevoluteDH(qlim=qlims[0,:])],\n",
    "    name=\"Px_DH_std\")\n",
    "robot.tool = transl(l[3],0,0).dot(troty(np.pi/2).dot(trotz(-np.pi/2)))\n",
    "print(robot)"
   ]
  },
  {
   "cell_type": "code",
   "execution_count": 58,
   "metadata": {},
   "outputs": [],
   "source": [
    "qt = np.deg2rad(np.array([60, -80, 20, 25]))\n",
    "Tt = robot.fkine(qt)"
   ]
  },
  {
   "cell_type": "code",
   "execution_count": 75,
   "metadata": {},
   "outputs": [],
   "source": [
    "# Desacople \n",
    "np.set_printoptions(suppress=True)\n",
    "T = Tt.A\n",
    "Tw = T-(l[3]*T[0:4,2]).reshape(4,1)"
   ]
  },
  {
   "cell_type": "code",
   "execution_count": 76,
   "metadata": {},
   "outputs": [
    {
     "name": "stdout",
     "output_type": "stream",
     "text": [
      "1.0471975511965976 59.99999999999999\n"
     ]
    }
   ],
   "source": [
    "#  Solucion q1\n",
    "q1 = np.arctan2(Tw[1,3],Tw[0,3])\n",
    "print(q1,np.rad2deg(q1))      "
   ]
  },
  {
   "cell_type": "code",
   "execution_count": 83,
   "metadata": {},
   "outputs": [],
   "source": [
    "# Solucion 2R\n",
    "h = Tw[2,3] - l[0]\n",
    "r = np.sqrt(Tw[0,3]**2 + Tw[1,3]**2)\n",
    "# Codo abajo\n",
    "the3 = np.arccos((r**2+h**2-l[1]**2-l[2]**2)/(2*l[1]*l[2]))\n",
    "the2 = np.arctan2(h,r) - np.arctan2(l[2]*np.sin(the3),l[1]+l[2]*np.cos(the3))\n",
    "q2d = -(np.pi/2-the2)\n",
    "q3d = the3\n"
   ]
  },
  {
   "cell_type": "code",
   "execution_count": 86,
   "metadata": {},
   "outputs": [],
   "source": [
    "# Codo arriba\n",
    "the2 = np.arctan2(h,r) + np.arctan2(l[2]*np.sin(the3),l[1]+l[2]*np.cos(the3))\n",
    "q2u = -(np.pi/2-the2)\n",
    "q3u = -the3"
   ]
  },
  {
   "cell_type": "code",
   "execution_count": 103,
   "metadata": {},
   "outputs": [],
   "source": [
    "# Solucion q4\n",
    "Rp = (rotz(q1).T).dot(T[0:3,0:3])\n",
    "pitch = np.arctan2(Rp[2,0],Rp[0,0])\n",
    "q4d = pitch - q2d - q3d\n",
    "q4u = pitch - q2u - q3u"
   ]
  },
  {
   "cell_type": "code",
   "execution_count": 104,
   "metadata": {},
   "outputs": [],
   "source": [
    "qinv = np.empty((2,4))\n",
    "qinv[:] =np.NaN\n",
    "qinv[0,:] = np.array([q1, q2u, q3u, q4u])\n",
    "qinv[1,:] = np.array([q1, q2d, q3d, q4d])"
   ]
  },
  {
   "cell_type": "code",
   "execution_count": 105,
   "metadata": {},
   "outputs": [
    {
     "data": {
      "text/plain": [
       "array([[ 1.04719755, -1.04719755, -0.34906585,  0.78539816],\n",
       "       [ 1.04719755, -1.3962634 ,  0.34906585,  0.43633231]])"
      ]
     },
     "execution_count": 105,
     "metadata": {},
     "output_type": "execute_result"
    }
   ],
   "source": [
    "qinv"
   ]
  }
 ],
 "metadata": {
  "interpreter": {
   "hash": "e7370f93d1d0cde622a1f8e1c04877d8463912d04d973331ad4851f04de6915a"
  },
  "kernelspec": {
   "display_name": "Python 3.8.10 64-bit",
   "language": "python",
   "name": "python3"
  },
  "language_info": {
   "codemirror_mode": {
    "name": "ipython",
    "version": 3
   },
   "file_extension": ".py",
   "mimetype": "text/x-python",
   "name": "python",
   "nbconvert_exporter": "python",
   "pygments_lexer": "ipython3",
   "version": "3.8.10"
  },
  "orig_nbformat": 4
 },
 "nbformat": 4,
 "nbformat_minor": 2
}
